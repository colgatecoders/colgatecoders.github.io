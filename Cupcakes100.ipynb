{
 "cells": [
  {
   "cell_type": "markdown",
   "metadata": {},
   "source": [
    "# Cupcakes and Coding    \n",
    "#### Level 100\n",
    "By Colgate Coders (_Spring18_)\n",
    "    "
   ]
  },
  {
   "cell_type": "markdown",
   "metadata": {},
   "source": [
    "### Warm Up ( 5 points )\n",
    "In this warm up problem, you will be using python to print out the following pattern (**without explicitly printing out the lines** ):  \n",
    "```\n",
    "1\n",
    "11\n",
    "121\n",
    "1331\n",
    "```\n",
    "  \n",
    "Tip : You can run each cell by pressing `shift` + `enter` "
   ]
  },
  {
   "cell_type": "code",
   "execution_count": 5,
   "metadata": {},
   "outputs": [],
   "source": [
    "def printPattern():\n",
    "    pass # Remove this line"
   ]
  },
  {
   "cell_type": "code",
   "execution_count": 6,
   "metadata": {},
   "outputs": [
    {
     "name": "stdout",
     "output_type": "stream",
     "text": [
      "1\n",
      "11\n",
      "121\n",
      "1331\n"
     ]
    }
   ],
   "source": [
    "printPattern() #Run this (shift+enter)"
   ]
  },
  {
   "cell_type": "markdown",
   "metadata": {},
   "source": [
    "### More Warm Up  ( 5 points )\n",
    "Great Job! Now fill in the function below to produce the following print out:  \n",
    "```    \n",
    "    1\n",
    "   11\n",
    "  121\n",
    " 1331```"
   ]
  },
  {
   "cell_type": "code",
   "execution_count": 7,
   "metadata": {},
   "outputs": [],
   "source": [
    "def printPattern2():\n",
    "    #TODO : Fill in this function. \n",
    "    pass # Remove this line"
   ]
  },
  {
   "cell_type": "code",
   "execution_count": 8,
   "metadata": {},
   "outputs": [],
   "source": [
    "printPattern2() #This should produce the pattern."
   ]
  },
  {
   "cell_type": "markdown",
   "metadata": {},
   "source": [
    "## The Turtle Triangle Challenge (20 points)\n",
    "\n",
    "                      _>-.    ____    .-<_\n",
    "                       >-.\\.-'____`-./ ,<\n",
    "                         .','\"\\__/\"`.`<_,-,\n",
    "                       _/ / \\_/  \\_/ \\!  (D\\\n",
    "                        \\ \\_/ \\__/ \\_/!_ (D/\n",
    "                         `.`../__\\,.'.< `-`\n",
    "                      _>-'/`-.____.-'\\ `<_\n",
    "                       >-'            `-<\n",
    "For this challenge, you will be using the `turtle` package to draw a triangle. Don't worry if you have no idea what the `turtle` package is. Below is a quick demonstration of the basic ideas: (follow through the code and read the comments.)\n",
    "\n",
    "(**IMPORTANT REMARK**: Don't close the turtle window at any point in the code cells below. If you encounter a _cryptic_ error, click on the `Kernel` menu in the menu-bar at the top and restart the kernel. You'll have to start running the code from the cell below.)"
   ]
  },
  {
   "cell_type": "markdown",
   "metadata": {},
   "source": [
    "#### Task : Triangle\n",
    "_Create an equilateral triangle_.\n",
    "\n",
    "(Follow the sample code that creates a square.)"
   ]
  },
  {
   "cell_type": "code",
   "execution_count": 12,
   "metadata": {},
   "outputs": [],
   "source": [
    "import turtle\n",
    "import time "
   ]
  },
  {
   "cell_type": "code",
   "execution_count": 13,
   "metadata": {},
   "outputs": [],
   "source": [
    "t = turtle.Turtle() #Create a new turtle"
   ]
  },
  {
   "cell_type": "code",
   "execution_count": 14,
   "metadata": {},
   "outputs": [],
   "source": [
    "t.forward(100) # move turtle forward 100 units. "
   ]
  },
  {
   "cell_type": "code",
   "execution_count": 15,
   "metadata": {},
   "outputs": [],
   "source": [
    "t.left(90) #turn left by 90 degrees. "
   ]
  },
  {
   "cell_type": "code",
   "execution_count": 16,
   "metadata": {},
   "outputs": [],
   "source": [
    "t.forward(100) # move turtle forward 100 units in the new direction. "
   ]
  },
  {
   "cell_type": "code",
   "execution_count": 17,
   "metadata": {},
   "outputs": [],
   "source": [
    "#basically repeating 4 times completes a square.\n",
    "t.left(90)\n",
    "t.forward(100)\n",
    "t.left(90)\n",
    "t.forward(100)\n",
    "# NOTE: You could have used a for loop to repeat the forward \n",
    "# and left actions 4 times. "
   ]
  },
  {
   "cell_type": "markdown",
   "metadata": {},
   "source": [
    "###### PART 1. Simple Triangle\n",
    "Now proceed with the task of creating the triangle to earn **10 more points.** "
   ]
  },
  {
   "cell_type": "code",
   "execution_count": 27,
   "metadata": {},
   "outputs": [],
   "source": [
    "turtle.clearscreen() # clears the previous turtle .DON'T CLOSE WINDOW"
   ]
  },
  {
   "cell_type": "code",
   "execution_count": 28,
   "metadata": {},
   "outputs": [],
   "source": [
    "def drawTriangle():\n",
    "    myTurtle = turtle.Turtle()\n",
    "    #Your code goes here."
   ]
  },
  {
   "cell_type": "code",
   "execution_count": 29,
   "metadata": {},
   "outputs": [],
   "source": [
    "'''\n",
    "If you wish to make changes or re-run,\n",
    "    1. Change the code in the cell above and run it. \n",
    "    2. Run this cell.\n",
    "'''\n",
    "\n",
    "turtle.clearscreen() #don't remove this line. \n",
    "drawTriangle()\n"
   ]
  },
  {
   "cell_type": "markdown",
   "metadata": {},
   "source": [
    "###### Part 2. Triple Triangle\n",
    "Now create a triple triangle that looks like this: \n",
    "\n",
    "![Triple Triangle](tripletriangle.png)\n",
    "\n",
    "and earn **10 more points**."
   ]
  },
  {
   "cell_type": "code",
   "execution_count": 34,
   "metadata": {},
   "outputs": [],
   "source": [
    "def drawTripleTriangle():\n",
    "    myTurtle = turtle.Turtle()\n",
    "    #Your code goes here."
   ]
  },
  {
   "cell_type": "code",
   "execution_count": 35,
   "metadata": {},
   "outputs": [],
   "source": [
    "turtle.clearscreen() #don't remove this line.\n",
    "drawTripleTriangle()"
   ]
  },
  {
   "cell_type": "markdown",
   "metadata": {},
   "source": [
    "## Create Your Own (20 points)"
   ]
  },
  {
   "cell_type": "markdown",
   "metadata": {},
   "source": [
    "Onto the final part of this coding challenge. Create your own turtle pattern. Run the following sample code to see a simple (but beautiful) pattern using the `turtle` package  "
   ]
  },
  {
   "cell_type": "code",
   "execution_count": 46,
   "metadata": {},
   "outputs": [],
   "source": [
    "def samplePattern():\n",
    "    '''\n",
    "    essentially making a square but each angle is 90.8 \n",
    "    and each length is slightly larger than the previous.\n",
    "    \n",
    "    '''\n",
    "    turtle.clearscreen()\n",
    "    turtle.bgcolor(\"black\") #sets the background color\n",
    "    t = turtle.Turtle() \n",
    "    t.speed(0) #makes the turtle super fast\n",
    "    start = 2 \n",
    "    for i in range(300):\n",
    "        # each side of the pseudo-square is a random color\n",
    "        # pencolor accepts a tuple (r,g,b),\n",
    "        # where each value is in the range [0.0,1.0). \n",
    "        t.pencolor((random.random(),\n",
    "                    random.uniform(0,0.5),\n",
    "                    random.random()))\n",
    "        t.fd(start)\n",
    "        start =start+.8\n",
    "        t.left(90.8)\n",
    "\n"
   ]
  },
  {
   "cell_type": "code",
   "execution_count": 47,
   "metadata": {},
   "outputs": [],
   "source": [
    "samplePattern() \n",
    "# Trying changing the function above to see what's going on. "
   ]
  },
  {
   "cell_type": "code",
   "execution_count": 49,
   "metadata": {},
   "outputs": [],
   "source": [
    "def createYourOwn():\n",
    "    turtle.clearscreen() #Don't remove line. \n",
    "    #Your code goes here."
   ]
  },
  {
   "cell_type": "code",
   "execution_count": 50,
   "metadata": {},
   "outputs": [],
   "source": [
    "createYourOwn()\n"
   ]
  },
  {
   "cell_type": "markdown",
   "metadata": {},
   "source": [
    "### Great Job! Let one of the organizers know when you're done. \n",
    "\n",
    "**Bonus Question (5 points): Why did the Cupcake go to the doctor?**  \n",
    "**STAY TILL THE END TO FIND OUT**"
   ]
  },
  {
   "cell_type": "code",
   "execution_count": 51,
   "metadata": {},
   "outputs": [],
   "source": [
    "#Farewell Turtle\n",
    "turtle.bye() #Closes the window "
   ]
  }
 ],
 "metadata": {
  "kernelspec": {
   "display_name": "Python 2",
   "language": "python",
   "name": "python2"
  },
  "language_info": {
   "codemirror_mode": {
    "name": "ipython",
    "version": 2
   },
   "file_extension": ".py",
   "mimetype": "text/x-python",
   "name": "python",
   "nbconvert_exporter": "python",
   "pygments_lexer": "ipython2",
   "version": "2.7.14"
  }
 },
 "nbformat": 4,
 "nbformat_minor": 2
}
